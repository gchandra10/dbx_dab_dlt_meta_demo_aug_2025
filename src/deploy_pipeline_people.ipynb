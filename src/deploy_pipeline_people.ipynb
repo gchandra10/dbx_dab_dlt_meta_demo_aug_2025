{
 "cells": [
  {
   "cell_type": "code",
   "execution_count": null,
   "id": "a67ad808",
   "metadata": {
    "vscode": {
     "languageId": "plaintext"
    }
   },
   "outputs": [],
   "source": [
    "%pip install dlt-meta"
   ]
  },
  {
   "cell_type": "code",
   "execution_count": null,
   "id": "0d59a07d",
   "metadata": {
    "vscode": {
     "languageId": "plaintext"
    }
   },
   "outputs": [],
   "source": [
    "\n",
    "from pyspark.sql import DataFrame\n",
    "from pyspark.sql.functions import lit\n",
    "from pyspark.sql.functions import current_date\n",
    "\n",
    "def custom_transform_func_test(input_df, _) -> DataFrame:\n",
    "  \n",
    "  if layer == \"bronze\":\n",
    "    dummy_param = spark.conf.get(\"dummy_param\",None)\n",
    "  else:\n",
    "    dummy_param = \"Test NA\"\n",
    "\n",
    "  return (input_df\n",
    "        .withColumn('last_updated_on', current_date())\n",
    "        .withColumn('some_dummy_from_task_param', lit(dummy_param) )\n",
    "        )"
   ]
  },
  {
   "cell_type": "code",
   "execution_count": null,
   "id": "b3a86db7",
   "metadata": {
    "vscode": {
     "languageId": "plaintext"
    }
   },
   "outputs": [],
   "source": [
    "\n",
    "layer = spark.conf.get(\"layer\", None)\n",
    "\n",
    "from src.dataflow_pipeline import DataflowPipeline\n",
    "DataflowPipeline.invoke_dlt_pipeline(spark, layer, bronze_custom_transform_func=custom_transform_func_test,\n",
    "silver_custom_transform_func=custom_transform_func_test\n",
    ")\n"
   ]
  },
  {
   "cell_type": "code",
   "execution_count": null,
   "id": "1d0734f4",
   "metadata": {
    "vscode": {
     "languageId": "plaintext"
    }
   },
   "outputs": [],
   "source": []
  }
 ],
 "metadata": {
  "language_info": {
   "name": "python"
  }
 },
 "nbformat": 4,
 "nbformat_minor": 5
}
